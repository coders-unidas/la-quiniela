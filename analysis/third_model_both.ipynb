{
 "cells": [
  {
   "cell_type": "code",
   "execution_count": 1,
   "metadata": {},
   "outputs": [],
   "source": [
    "import sqlite3\n",
    "import pandas as pd\n",
    "import numpy as np\n",
    "from sklearn.ensemble import GradientBoostingClassifier\n",
    "from sklearn.model_selection import train_test_split"
   ]
  },
  {
   "cell_type": "code",
   "execution_count": 3,
   "metadata": {},
   "outputs": [],
   "source": [
    "with sqlite3.connect(\"../laliga.sqlite\") as con:\n",
    "    df=pd.read_sql_query(\"SELECT * FROM Matches\",con)\n",
    "    dr=pd.read_sql_query(\"SELECT * FROM Predictions\",con)\n",
    "\n",
    "df = df.dropna(subset=['score'])"
   ]
  },
  {
   "cell_type": "code",
   "execution_count": 4,
   "metadata": {},
   "outputs": [],
   "source": [
    "df[\"score_home_team\"] = df[\"score\"].str.split(\":\").str[0].astype(float)\n",
    "df[\"score_away_team\"] = df[\"score\"].str.split(\":\").str[1].astype(float)\n",
    "df[\"goal_difference\"] = df[\"score_home_team\"] - df[\"score_away_team\"]\n",
    "\n",
    "df[\"match_result\"] = np.where(df['score_home_team'] > df['score_away_team'], '1', np.where(df['score_home_team'] < df['score_away_team'], '2', 'X'))"
   ]
  },
  {
   "cell_type": "code",
   "execution_count": 5,
   "metadata": {},
   "outputs": [],
   "source": [
    "\n",
    "df_class_home = df.groupby(['division', 'season', 'matchday', 'home_team','match_result']).agg(\n",
    "    GF_safe = pd.NamedAgg(column='score_home_team', aggfunc='sum'),\n",
    "    GA_safe = pd.NamedAgg(column='score_away_team', aggfunc='sum')\n",
    "    ).reset_index()\n",
    "df_class_away = df.groupby(['division', 'season', 'matchday', 'away_team', 'match_result']).agg(\n",
    "    GF_safe = pd.NamedAgg(column='score_away_team', aggfunc='sum'),\n",
    "    GA_safe = pd.NamedAgg(column='score_home_team', aggfunc='sum')\n",
    "    ).reset_index()\n",
    "\n",
    "df_class_home['W_safe'] = np.where(df_class_home['match_result'] == '1' , 1 ,0)\n",
    "df_class_home['L_safe'] = np.where(df_class_home['match_result'] == '2' , 1 ,0)\n",
    "df_class_home['T_safe'] = np.where(df_class_home['match_result'] == 'X' , 1 ,0)\n",
    "\n",
    "df_class_away['W_safe'] = np.where(df_class_away['match_result'] == '2' , 1 ,0)\n",
    "df_class_away['L_safe'] = np.where(df_class_away['match_result'] == '1' , 1 ,0)\n",
    "df_class_away['T_safe'] = np.where(df_class_away['match_result'] == 'X' , 1 ,0)\n",
    "\n",
    "df_class_away.rename(columns={'away_team':'team'}, inplace=True)\n",
    "df_class_home.rename(columns={'home_team':'team'}, inplace=True)\n",
    "df_classification = df_class_away.merge(df_class_home,how='outer')\n",
    "df_classification = df_classification.groupby(['season', 'division','matchday','team']).sum().reset_index()\n",
    "\n",
    "df_classification[['W','L','T','GF','GA']] = df_classification.groupby([ 'division','season','team'])[['W_safe','L_safe','T_safe','GF_safe','GA_safe']].cumsum()\n",
    "df_classification['result_matchday'] = np.where(df_classification['W_safe']==1,'W',np.where(df_classification['L_safe']==1,'L','T'))\n",
    "\n",
    "for i in range(5):\n",
    "    df_classification[f\"last_{i}\"] = df_classification.groupby(['division','season' ,'team'])['result_matchday'].shift(i+1)\n",
    "\n",
    "df_classification['GD'] = df_classification['GF'] - df_classification['GA']\n",
    "df_classification['Pts'] = (df_classification['W']) * 3 + df_classification['T']\n",
    "df_classification['year_of_start']=df_classification['season'].str.split(\"-\").str[0].astype(int)\n",
    "\n",
    "df_classification[\"last_5\"] = df_classification[[f\"last_{i}\" for i in range(5)]].agg(lambda x: [i for i in x if not pd.isna(i)], axis=1)\n",
    "\n",
    "df_classification_ordered = df_classification.sort_values(by=['year_of_start'], ascending=False)\n",
    "df_classification_ordered = df_classification_ordered.sort_values(by=['year_of_start','division'],ascending=[False,True])\n",
    "df_classification_ordered = df_classification_ordered.sort_values(by=['year_of_start','division','matchday'], ascending=[False,True,True])\n",
    "df_classification_ordered = df_classification_ordered.sort_values(by=['year_of_start','division','matchday', 'Pts'],ascending=[False,True,True,False])\n",
    "df_classification_ordered = df_classification_ordered.sort_values(by=['year_of_start','division','matchday', 'Pts','GD'],ascending=[False,True,True,False,False])\n",
    "df_classification_ordered = df_classification_ordered.sort_values(by=['year_of_start','division','matchday', 'Pts', 'GD', 'GF'],ascending=[False,True,True,False,False,False]).reset_index(drop=True)\n",
    "\n",
    "df_classification_ordered['rank']=df_classification_ordered.groupby(['year_of_start','division','matchday']).cumcount()+1\n",
    "df_classification_ordered['delayed_matchday_rank'] = df_classification_ordered.groupby(['year_of_start','division','team'])['rank'].shift(1)\n",
    "\n",
    "df_with_rank = df_classification_ordered[['season','division','matchday','team','delayed_matchday_rank']]"
   ]
  },
  {
   "cell_type": "code",
   "execution_count": null,
   "metadata": {},
   "outputs": [],
   "source": []
  }
 ],
 "metadata": {
  "kernelspec": {
   "display_name": ".laquinielaenv",
   "language": "python",
   "name": "python3"
  },
  "language_info": {
   "codemirror_mode": {
    "name": "ipython",
    "version": 3
   },
   "file_extension": ".py",
   "mimetype": "text/x-python",
   "name": "python",
   "nbconvert_exporter": "python",
   "pygments_lexer": "ipython3",
   "version": "3.11.5"
  }
 },
 "nbformat": 4,
 "nbformat_minor": 2
}
