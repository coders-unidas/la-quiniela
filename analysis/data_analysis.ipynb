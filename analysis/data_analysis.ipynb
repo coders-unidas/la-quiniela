{
 "cells": [
  {
   "cell_type": "code",
   "execution_count": 24,
   "metadata": {},
   "outputs": [
    {
     "ename": "ModuleNotFoundError",
     "evalue": "No module named 'tabulate'",
     "output_type": "error",
     "traceback": [
      "\u001b[1;31m---------------------------------------------------------------------------\u001b[0m",
      "\u001b[1;31mModuleNotFoundError\u001b[0m                       Traceback (most recent call last)",
      "\u001b[1;32mc:\\Users\\sofia\\Desktop\\Coding\\public-github-repositories\\quiniela-test\\la-quiniela\\analysis\\data_analysis.ipynb Cell 1\u001b[0m line \u001b[0;36m5\n\u001b[0;32m      <a href='vscode-notebook-cell:/c%3A/Users/sofia/Desktop/Coding/public-github-repositories/quiniela-test/la-quiniela/analysis/data_analysis.ipynb#W0sZmlsZQ%3D%3D?line=2'>3</a>\u001b[0m \u001b[39mimport\u001b[39;00m \u001b[39mmatplotlib\u001b[39;00m\u001b[39m.\u001b[39;00m\u001b[39mpyplot\u001b[39;00m \u001b[39mas\u001b[39;00m \u001b[39mplt\u001b[39;00m\n\u001b[0;32m      <a href='vscode-notebook-cell:/c%3A/Users/sofia/Desktop/Coding/public-github-repositories/quiniela-test/la-quiniela/analysis/data_analysis.ipynb#W0sZmlsZQ%3D%3D?line=3'>4</a>\u001b[0m \u001b[39mimport\u001b[39;00m \u001b[39mnumpy\u001b[39;00m \u001b[39mas\u001b[39;00m \u001b[39mnp\u001b[39;00m\n\u001b[1;32m----> <a href='vscode-notebook-cell:/c%3A/Users/sofia/Desktop/Coding/public-github-repositories/quiniela-test/la-quiniela/analysis/data_analysis.ipynb#W0sZmlsZQ%3D%3D?line=4'>5</a>\u001b[0m \u001b[39mfrom\u001b[39;00m \u001b[39mtabulate\u001b[39;00m \u001b[39mimport\u001b[39;00m tabulate\n",
      "\u001b[1;31mModuleNotFoundError\u001b[0m: No module named 'tabulate'"
     ]
    }
   ],
   "source": [
    "import sqlite3\n",
    "import pandas as pd\n",
    "import matplotlib.pyplot as plt\n",
    "import numpy as np\n",
    "from tabulate import tabulate"
   ]
  },
  {
   "cell_type": "code",
   "execution_count": 14,
   "metadata": {},
   "outputs": [],
   "source": [
    "with sqlite3.connect(\"../laliga.sqlite\") as con:\n",
    "    df=pd.read_sql_query(\"SELECT * FROM Matches\",con)\n",
    "    dr=pd.read_sql_query(\"SELECT * FROM Predictions\",con)"
   ]
  },
  {
   "cell_type": "code",
   "execution_count": 17,
   "metadata": {},
   "outputs": [
    {
     "data": {
      "text/html": [
       "<div>\n",
       "<style scoped>\n",
       "    .dataframe tbody tr th:only-of-type {\n",
       "        vertical-align: middle;\n",
       "    }\n",
       "\n",
       "    .dataframe tbody tr th {\n",
       "        vertical-align: top;\n",
       "    }\n",
       "\n",
       "    .dataframe thead th {\n",
       "        text-align: right;\n",
       "    }\n",
       "</style>\n",
       "<table border=\"1\" class=\"dataframe\">\n",
       "  <thead>\n",
       "    <tr style=\"text-align: right;\">\n",
       "      <th></th>\n",
       "      <th>season</th>\n",
       "      <th>division</th>\n",
       "      <th>matchday</th>\n",
       "      <th>date</th>\n",
       "      <th>time</th>\n",
       "      <th>home_team</th>\n",
       "      <th>away_team</th>\n",
       "      <th>score</th>\n",
       "      <th>pred</th>\n",
       "    </tr>\n",
       "  </thead>\n",
       "  <tbody>\n",
       "  </tbody>\n",
       "</table>\n",
       "</div>"
      ],
      "text/plain": [
       "Empty DataFrame\n",
       "Columns: [season, division, matchday, date, time, home_team, away_team, score, pred]\n",
       "Index: []"
      ]
     },
     "execution_count": 17,
     "metadata": {},
     "output_type": "execute_result"
    }
   ],
   "source": [
    "dr.head()"
   ]
  },
  {
   "cell_type": "code",
   "execution_count": 29,
   "metadata": {},
   "outputs": [
    {
     "name": "stderr",
     "output_type": "stream",
     "text": [
      "C:\\Users\\sofia\\AppData\\Local\\Temp\\ipykernel_30696\\1280398712.py:5: SettingWithCopyWarning: \n",
      "A value is trying to be set on a copy of a slice from a DataFrame.\n",
      "Try using .loc[row_indexer,col_indexer] = value instead\n",
      "\n",
      "See the caveats in the documentation: https://pandas.pydata.org/pandas-docs/stable/user_guide/indexing.html#returning-a-view-versus-a-copy\n",
      "  df[\"score_home_team\"] = df[\"score\"].str.split(\":\").str[0].astype(float)\n",
      "C:\\Users\\sofia\\AppData\\Local\\Temp\\ipykernel_30696\\1280398712.py:6: SettingWithCopyWarning: \n",
      "A value is trying to be set on a copy of a slice from a DataFrame.\n",
      "Try using .loc[row_indexer,col_indexer] = value instead\n",
      "\n",
      "See the caveats in the documentation: https://pandas.pydata.org/pandas-docs/stable/user_guide/indexing.html#returning-a-view-versus-a-copy\n",
      "  df[\"score_away_team\"] = df[\"score\"].str.split(\":\").str[1].astype(float)\n"
     ]
    },
    {
     "data": {
      "image/png": "[encoded data removed]",
      "text/plain": [
       "<Figure size 640x480 with 1 Axes>"
      ]
     },
     "metadata": {},
     "output_type": "display_data"
    }
   ],
   "source": [
    "# Exercise 1\n",
    "\n",
    "df = df.dropna(subset=['score'])\n",
    "\n",
    "df[\"score_home_team\"] = df[\"score\"].str.split(\":\").str[0].astype(float)\n",
    "df[\"score_away_team\"] = df[\"score\"].str.split(\":\").str[1].astype(float)\n",
    "\n",
    "home_wins = (df['score_home_team'] > df['score_away_team']).sum()\n",
    "away_wins = (df['score_home_team'] < df['score_away_team']).sum()\n",
    "ties = (df['score_home_team'] == df['score_away_team']).sum()\n",
    "\n",
    "sizes = [home_wins, away_wins, ties]\n",
    "labels = ['home team wins', 'away team wins', 'there is a tie']\n",
    "explode = (0.1, 0, 0)\n",
    "\n",
    "fig, ax = plt.subplots()\n",
    "ax.pie(sizes, explode=explode, labels=labels, autopct='%1.1f%%',\n",
    "       shadow={'ox': -0.04, 'edgecolor': 'none', 'shade': 0.9}, startangle=90)\n",
    "plt.show()"
   ]
  },
  {
   "cell_type": "code",
   "execution_count": 23,
   "metadata": {},
   "outputs": [
    {
     "ename": "KeyError",
     "evalue": "'Column not found: score_home_team'",
     "output_type": "error",
     "traceback": [
      "\u001b[1;31m---------------------------------------------------------------------------\u001b[0m",
      "\u001b[1;31mKeyError\u001b[0m                                  Traceback (most recent call last)",
      "\u001b[1;32mc:\\Users\\sofia\\Desktop\\Coding\\public-github-repositories\\quiniela-test\\la-quiniela\\analysis\\data_analysis.ipynb Cell 4\u001b[0m line \u001b[0;36m5\n\u001b[0;32m      <a href='vscode-notebook-cell:/c%3A/Users/sofia/Desktop/Coding/public-github-repositories/quiniela-test/la-quiniela/analysis/data_analysis.ipynb#W3sZmlsZQ%3D%3D?line=0'>1</a>\u001b[0m \u001b[39m# Exercise 2\u001b[39;00m\n\u001b[0;32m      <a href='vscode-notebook-cell:/c%3A/Users/sofia/Desktop/Coding/public-github-repositories/quiniela-test/la-quiniela/analysis/data_analysis.ipynb#W3sZmlsZQ%3D%3D?line=2'>3</a>\u001b[0m df_first_division \u001b[39m=\u001b[39m df[df[\u001b[39m'\u001b[39m\u001b[39mdivision\u001b[39m\u001b[39m'\u001b[39m] \u001b[39m!=\u001b[39m \u001b[39m2\u001b[39m]\n\u001b[1;32m----> <a href='vscode-notebook-cell:/c%3A/Users/sofia/Desktop/Coding/public-github-repositories/quiniela-test/la-quiniela/analysis/data_analysis.ipynb#W3sZmlsZQ%3D%3D?line=4'>5</a>\u001b[0m goals_scored \u001b[39m=\u001b[39m df_first_division\u001b[39m.\u001b[39;49mgroupby(\u001b[39m'\u001b[39;49m\u001b[39mhome_team\u001b[39;49m\u001b[39m'\u001b[39;49m)[\u001b[39m'\u001b[39;49m\u001b[39mscore_home_team\u001b[39;49m\u001b[39m'\u001b[39;49m]\u001b[39m.\u001b[39msum() \u001b[39m+\u001b[39m df_first_division\u001b[39m.\u001b[39mgroupby(\u001b[39m'\u001b[39m\u001b[39maway_team\u001b[39m\u001b[39m'\u001b[39m)[\u001b[39m'\u001b[39m\u001b[39mscore_away_team\u001b[39m\u001b[39m'\u001b[39m]\u001b[39m.\u001b[39msum()\n\u001b[0;32m      <a href='vscode-notebook-cell:/c%3A/Users/sofia/Desktop/Coding/public-github-repositories/quiniela-test/la-quiniela/analysis/data_analysis.ipynb#W3sZmlsZQ%3D%3D?line=5'>6</a>\u001b[0m top_scorers \u001b[39m=\u001b[39m goals_scored\u001b[39m.\u001b[39msort_values(ascending\u001b[39m=\u001b[39m\u001b[39mFalse\u001b[39;00m)\u001b[39m.\u001b[39mhead(\u001b[39m10\u001b[39m)\n\u001b[0;32m      <a href='vscode-notebook-cell:/c%3A/Users/sofia/Desktop/Coding/public-github-repositories/quiniela-test/la-quiniela/analysis/data_analysis.ipynb#W3sZmlsZQ%3D%3D?line=7'>8</a>\u001b[0m goals_conceded \u001b[39m=\u001b[39m df_first_division\u001b[39m.\u001b[39mgroupby(\u001b[39m'\u001b[39m\u001b[39mhome_team\u001b[39m\u001b[39m'\u001b[39m)[\u001b[39m'\u001b[39m\u001b[39mscore_away_team\u001b[39m\u001b[39m'\u001b[39m]\u001b[39m.\u001b[39msum() \u001b[39m+\u001b[39m df_first_division\u001b[39m.\u001b[39mgroupby(\u001b[39m'\u001b[39m\u001b[39maway_team\u001b[39m\u001b[39m'\u001b[39m)[\u001b[39m'\u001b[39m\u001b[39mscore_home_team\u001b[39m\u001b[39m'\u001b[39m]\u001b[39m.\u001b[39msum()\n",
      "File \u001b[1;32mc:\\Users\\sofia\\Desktop\\Coding\\public-github-repositories\\quiniela-test\\la-quiniela\\.venv\\Lib\\site-packages\\pandas\\core\\groupby\\generic.py:1961\u001b[0m, in \u001b[0;36mDataFrameGroupBy.__getitem__\u001b[1;34m(self, key)\u001b[0m\n\u001b[0;32m   1954\u001b[0m \u001b[39mif\u001b[39;00m \u001b[39misinstance\u001b[39m(key, \u001b[39mtuple\u001b[39m) \u001b[39mand\u001b[39;00m \u001b[39mlen\u001b[39m(key) \u001b[39m>\u001b[39m \u001b[39m1\u001b[39m:\n\u001b[0;32m   1955\u001b[0m     \u001b[39m# if len == 1, then it becomes a SeriesGroupBy and this is actually\u001b[39;00m\n\u001b[0;32m   1956\u001b[0m     \u001b[39m# valid syntax, so don't raise\u001b[39;00m\n\u001b[0;32m   1957\u001b[0m     \u001b[39mraise\u001b[39;00m \u001b[39mValueError\u001b[39;00m(\n\u001b[0;32m   1958\u001b[0m         \u001b[39m\"\u001b[39m\u001b[39mCannot subset columns with a tuple with more than one element. \u001b[39m\u001b[39m\"\u001b[39m\n\u001b[0;32m   1959\u001b[0m         \u001b[39m\"\u001b[39m\u001b[39mUse a list instead.\u001b[39m\u001b[39m\"\u001b[39m\n\u001b[0;32m   1960\u001b[0m     )\n\u001b[1;32m-> 1961\u001b[0m \u001b[39mreturn\u001b[39;00m \u001b[39msuper\u001b[39;49m()\u001b[39m.\u001b[39;49m\u001b[39m__getitem__\u001b[39;49m(key)\n",
      "File \u001b[1;32mc:\\Users\\sofia\\Desktop\\Coding\\public-github-repositories\\quiniela-test\\la-quiniela\\.venv\\Lib\\site-packages\\pandas\\core\\base.py:244\u001b[0m, in \u001b[0;36mSelectionMixin.__getitem__\u001b[1;34m(self, key)\u001b[0m\n\u001b[0;32m    242\u001b[0m \u001b[39melse\u001b[39;00m:\n\u001b[0;32m    243\u001b[0m     \u001b[39mif\u001b[39;00m key \u001b[39mnot\u001b[39;00m \u001b[39min\u001b[39;00m \u001b[39mself\u001b[39m\u001b[39m.\u001b[39mobj:\n\u001b[1;32m--> 244\u001b[0m         \u001b[39mraise\u001b[39;00m \u001b[39mKeyError\u001b[39;00m(\u001b[39mf\u001b[39m\u001b[39m\"\u001b[39m\u001b[39mColumn not found: \u001b[39m\u001b[39m{\u001b[39;00mkey\u001b[39m}\u001b[39;00m\u001b[39m\"\u001b[39m)\n\u001b[0;32m    245\u001b[0m     ndim \u001b[39m=\u001b[39m \u001b[39mself\u001b[39m\u001b[39m.\u001b[39mobj[key]\u001b[39m.\u001b[39mndim\n\u001b[0;32m    246\u001b[0m     \u001b[39mreturn\u001b[39;00m \u001b[39mself\u001b[39m\u001b[39m.\u001b[39m_gotitem(key, ndim\u001b[39m=\u001b[39mndim)\n",
      "\u001b[1;31mKeyError\u001b[0m: 'Column not found: score_home_team'"
     ]
    }
   ],
   "source": [
    "# Exercise 2\n",
    "\n",
    "df_first_division = df[df['division'] != 2]\n",
    "\n",
    "goals_scored = df_first_division.groupby('home_team')['score_home_team'].sum() + df_first_division.groupby('away_team')['score_away_team'].sum()\n",
    "top_scorers = goals_scored.sort_values(ascending=False).head(10)\n",
    "\n",
    "goals_conceded = df_first_division.groupby('home_team')['score_away_team'].sum() + df_first_division.groupby('away_team')['score_home_team'].sum()\n",
    "top_conceders = goals_conceded.sort_values(ascending=False).head(10)\n",
    "\n",
    "top_scorers.plot(x='nombre', y='valor', kind='bar',color='c')\n",
    "plt.xlabel('teams')\n",
    "plt.ylabel('goals')\n",
    "plt.title('most scoring teams')\n",
    "plt.show()\n",
    "\n",
    "top_conceders.plot(x='nombre', y='valor', kind='bar',color='r')\n",
    "plt.xlabel('teams')\n",
    "plt.ylabel('goals')\n",
    "plt.title('most conceding teams')\n",
    "plt.show()\n",
    "\n",
    "df_first_division['score_difference'] = np.abs(df_first_division[\"score_home_team\"] - df_first_division[\"score_away_team\"])\n",
    "df_first_division['game_name'] = df_first_division[\"home_team\"] + ' vs ' + df_first_division[\"away_team\"]\n",
    "differences= df_first_division.iloc[:,-2:].sort_values(by='score_difference',ascending=False).head(10)\n",
    "\n",
    "table = tabulate(differences, headers='keys', tablefmt='pretty', showindex=False)\n",
    "print(table)\n",
    "\n",
    "\n",
    "#df_first_division[\"score_difference\"] = np.abs(df_first_division[\"score_home_team\"] - df_first_division[\"score_away_team\"])\n"
   ]
  },
  {
   "cell_type": "code",
   "execution_count": 22,
   "metadata": {},
   "outputs": [
    {
     "data": {
      "image/png": "[encoded data removed]",
      "text/plain": [
       "<Figure size 640x480 with 1 Axes>"
      ]
     },
     "metadata": {},
     "output_type": "display_data"
    }
   ],
   "source": [
    "# Exercise 3\n",
    "\n",
    "df['date'] = pd.to_datetime(df['date'], format='%m/%d/%y')\n",
    "df['Day_of_Week'] = df['date'].dt.day_name()\n",
    "\n",
    "day_of_week_counts = df['Day_of_Week'].value_counts().sort_index()\n",
    "\n",
    "plt.bar(day_of_week_counts.index, day_of_week_counts)\n",
    "plt.xlabel('Day of the Week')\n",
    "plt.ylabel('Count')\n",
    "plt.title('Events by Day of the Week')\n",
    "plt.show(\n",
    "    \n",
    ")"
   ]
  },
  {
   "cell_type": "code",
   "execution_count": 28,
   "metadata": {},
   "outputs": [
    {
     "data": {
      "text/html": [
       "<div>\n",
       "<style scoped>\n",
       "    .dataframe tbody tr th:only-of-type {\n",
       "        vertical-align: middle;\n",
       "    }\n",
       "\n",
       "    .dataframe tbody tr th {\n",
       "        vertical-align: top;\n",
       "    }\n",
       "\n",
       "    .dataframe thead th {\n",
       "        text-align: right;\n",
       "    }\n",
       "</style>\n",
       "<table border=\"1\" class=\"dataframe\">\n",
       "  <thead>\n",
       "    <tr style=\"text-align: right;\">\n",
       "      <th></th>\n",
       "      <th>season</th>\n",
       "      <th>division</th>\n",
       "      <th>matchday</th>\n",
       "      <th>date</th>\n",
       "      <th>time</th>\n",
       "      <th>home_team</th>\n",
       "      <th>away_team</th>\n",
       "      <th>score</th>\n",
       "      <th>winner</th>\n",
       "      <th>Day_of_Week</th>\n",
       "    </tr>\n",
       "  </thead>\n",
       "  <tbody>\n",
       "    <tr>\n",
       "      <th>0</th>\n",
       "      <td>1928-1929</td>\n",
       "      <td>1</td>\n",
       "      <td>1</td>\n",
       "      <td>2029-02-10</td>\n",
       "      <td>None</td>\n",
       "      <td>Arenas Club</td>\n",
       "      <td>Athletic Madrid</td>\n",
       "      <td>2:3</td>\n",
       "      <td>None</td>\n",
       "      <td>Saturday</td>\n",
       "    </tr>\n",
       "    <tr>\n",
       "      <th>1</th>\n",
       "      <td>1928-1929</td>\n",
       "      <td>1</td>\n",
       "      <td>1</td>\n",
       "      <td>2029-02-10</td>\n",
       "      <td>None</td>\n",
       "      <td>Espanyol</td>\n",
       "      <td>Real Unión</td>\n",
       "      <td>3:2</td>\n",
       "      <td>None</td>\n",
       "      <td>Saturday</td>\n",
       "    </tr>\n",
       "    <tr>\n",
       "      <th>2</th>\n",
       "      <td>1928-1929</td>\n",
       "      <td>1</td>\n",
       "      <td>1</td>\n",
       "      <td>2029-02-10</td>\n",
       "      <td>None</td>\n",
       "      <td>Real Madrid</td>\n",
       "      <td>Catalunya</td>\n",
       "      <td>5:0</td>\n",
       "      <td>None</td>\n",
       "      <td>Saturday</td>\n",
       "    </tr>\n",
       "    <tr>\n",
       "      <th>3</th>\n",
       "      <td>1928-1929</td>\n",
       "      <td>1</td>\n",
       "      <td>1</td>\n",
       "      <td>2029-02-10</td>\n",
       "      <td>None</td>\n",
       "      <td>Donostia</td>\n",
       "      <td>Athletic</td>\n",
       "      <td>1:1</td>\n",
       "      <td>None</td>\n",
       "      <td>Saturday</td>\n",
       "    </tr>\n",
       "    <tr>\n",
       "      <th>4</th>\n",
       "      <td>1928-1929</td>\n",
       "      <td>1</td>\n",
       "      <td>1</td>\n",
       "      <td>2029-02-12</td>\n",
       "      <td>None</td>\n",
       "      <td>Racing</td>\n",
       "      <td>Barcelona</td>\n",
       "      <td>0:2</td>\n",
       "      <td>None</td>\n",
       "      <td>Monday</td>\n",
       "    </tr>\n",
       "  </tbody>\n",
       "</table>\n",
       "</div>"
      ],
      "text/plain": [
       "      season  division  matchday       date  time    home_team  \\\n",
       "0  1928-1929         1         1 2029-02-10  None  Arenas Club   \n",
       "1  1928-1929         1         1 2029-02-10  None     Espanyol   \n",
       "2  1928-1929         1         1 2029-02-10  None  Real Madrid   \n",
       "3  1928-1929         1         1 2029-02-10  None     Donostia   \n",
       "4  1928-1929         1         1 2029-02-12  None       Racing   \n",
       "\n",
       "         away_team score winner Day_of_Week  \n",
       "0  Athletic Madrid   2:3   None    Saturday  \n",
       "1       Real Unión   3:2   None    Saturday  \n",
       "2        Catalunya   5:0   None    Saturday  \n",
       "3         Athletic   1:1   None    Saturday  \n",
       "4        Barcelona   0:2   None      Monday  "
      ]
     },
     "execution_count": 28,
     "metadata": {},
     "output_type": "execute_result"
    }
   ],
   "source": [
    "# Exercise 6\n",
    "\n",
    "'''Between 1979 and 1980, Real Sociedad managed to chain a total of 38 games\n",
    "without losing. That was, by far, the longest undefeated streak in their his-\n",
    "tory. Which teams have had the longest undefeated streaks? Show the\n",
    "longest undefeated streaks in a horizontal bar plot, indicating in each bar\n",
    "the team name and the dates it held that streak, for instance, Real Sociedad\n",
    "22/04/1979 - 04/05/1980.'''\n",
    "\n",
    "\n",
    "df.head()\n",
    "\n",
    "#n_undefeated = df['Day_of_Week'].value_counts().sort_index()\n",
    "'''\n",
    "1) choose a team\n",
    "2) away or home?\n",
    "3) retrieve score and compare\n",
    "4) if winner, keep\n",
    "5) sort by date\n",
    "6) check continuous date\n",
    "\n",
    "'''\n",
    "df.head()\n"
   ]
  },
  {
   "cell_type": "code",
   "execution_count": 58,
   "metadata": {},
   "outputs": [
    {
     "name": "stdout",
     "output_type": "stream",
     "text": [
      "The all-time maximum winning streak is: 18\n"
     ]
    }
   ],
   "source": [
    "df['winner'] = df.apply(lambda row: row['home_team'] if row['score_home_team'] > row['score_away_team'] else row['away_team'], axis=1)\n",
    "\n",
    "df['match_won'] = df['winner'] == df['home_team']\n",
    "df['streak'] = (df['match_won'] != df['match_won'].shift()).cumsum()\n",
    "\n",
    "max_streak_length = df.groupby('streak').size().max()\n",
    "print(f\"The all-time maximum winning streak is: {max_streak_length}\")\n"
   ]
  }
 ],
 "metadata": {
  "kernelspec": {
   "display_name": ".laquinielaenv",
   "language": "python",
   "name": "python3"
  },
  "language_info": {
   "codemirror_mode": {
    "name": "ipython",
    "version": 3
   },
   "file_extension": ".py",
   "mimetype": "text/x-python",
   "name": "python",
   "nbconvert_exporter": "python",
   "pygments_lexer": "ipython3",
   "version": "3.11.6"
  }
 },
 "nbformat": 4,
 "nbformat_minor": 2
}
