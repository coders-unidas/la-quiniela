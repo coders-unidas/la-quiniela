{
 "cells": [
  {
   "cell_type": "code",
   "execution_count": null,
   "metadata": {},
   "outputs": [],
   "source": []
  },
  {
   "cell_type": "markdown",
   "metadata": {},
   "source": [
    "model can train with seasons () to ()\n",
    "what are the features?\n",
    "\n",
    "\n",
    "dataframe:\n",
    "home_team | away_team | ranking_home_team | ranking_away_team || result\n",
    "________________________________________________________________________\n",
    "\n",
    "4 primeres columnes: features\n",
    "5 columna: target\n",
    "\n",
    "train (season tal to tal: info features + target)\n",
    "\n",
    "test (apply to () with teh following features)\n",
    "\n",
    "print:\n",
    "\n",
    "features, target, predictions"
   ]
  }
 ],
 "metadata": {
  "language_info": {
   "name": "python"
  }
 },
 "nbformat": 4,
 "nbformat_minor": 2
}
