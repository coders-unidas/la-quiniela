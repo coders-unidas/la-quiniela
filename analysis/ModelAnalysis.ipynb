{
 "cells": [
  {
   "cell_type": "markdown",
   "metadata": {},
   "source": [
    "Following is the notebook with our best performing model."
   ]
  },
  {
   "cell_type": "code",
   "execution_count": 1,
   "metadata": {},
   "outputs": [],
   "source": [
    "import sqlite3\n",
    "import pandas as pd\n",
    "import numpy as np\n",
    "from sklearn.ensemble import GradientBoostingClassifier\n",
    "import seaborn as sns\n",
    "import matplotlib.pyplot as plt"
   ]
  },
  {
   "cell_type": "markdown",
   "metadata": {},
   "source": [
    "The first step is to import the dataframe and to remove the rows without the score, as these rows can't be used either to train to model or to check its performence."
   ]
  },
  {
   "cell_type": "code",
   "execution_count": 2,
   "metadata": {},
   "outputs": [],
   "source": [
    "with sqlite3.connect(\"../laliga.sqlite\") as con:\n",
    "    df=pd.read_sql_query(\"SELECT * FROM Matches\",con)\n",
    "\n",
    "df = df.dropna(subset=['score'])"
   ]
  },
  {
   "cell_type": "markdown",
   "metadata": {},
   "source": [
    "After that, the dataframe has to be transformed into something that our model can understand and learn from it, so in this next cells the rank for each team from the previous season will first callculated and then added to our dataframe df. "
   ]
  },
  {
   "cell_type": "markdown",
   "metadata": {},
   "source": [
    "The procedure to calculate the rank is very similar to exercise 7 from the data analysis notebook with the exeption that the to rank for the second division, the number of teams playing in first division has been added, so that we have a single rank for both divisions for each season. Moreover, the rank for the previous season will be added instead of the current one."
   ]
  },
  {
   "cell_type": "code",
   "execution_count": 3,
   "metadata": {},
   "outputs": [],
   "source": [
    "df[\"score_home_team\"] = df[\"score\"].str.split(\":\").str[0].astype(float)\n",
    "df[\"score_away_team\"] = df[\"score\"].str.split(\":\").str[1].astype(float)\n",
    "df[\"goal_difference\"] = df[\"score_home_team\"] - df[\"score_away_team\"]\n",
    "\n",
    "df[\"match_result\"] = np.where(df['score_home_team'] > df['score_away_team'], '1', np.where(df['score_home_team'] < df['score_away_team'], '2', 'X'))"
   ]
  },
  {
   "cell_type": "code",
   "execution_count": 4,
   "metadata": {},
   "outputs": [],
   "source": [
    "def func_home_wins(data):\n",
    "    return (data[data == '1']).count()\n",
    "\n",
    "def func_away_wins(data):\n",
    "    return (data[data == '2']).count()\n",
    "\n",
    "def func_tie(data):\n",
    "    return (data[data == 'X']).count()"
   ]
  },
  {
   "cell_type": "code",
   "execution_count": 5,
   "metadata": {},
   "outputs": [],
   "source": [
    "df_columns_home = df.groupby(['division', 'season', 'home_team']).agg(\n",
    "    GF=pd.NamedAgg(column='score_home_team', aggfunc='sum'),\n",
    "    GA=pd.NamedAgg(column='score_away_team', aggfunc='sum'),\n",
    "    W=pd.NamedAgg(column='match_result', aggfunc=func_home_wins),\n",
    "    L=pd.NamedAgg(column='match_result', aggfunc=func_away_wins),\n",
    "    T=pd.NamedAgg(column='match_result', aggfunc=func_tie)\n",
    ").reset_index()\n",
    "\n",
    "df_columns_away = df.groupby(['division', 'season', 'away_team']).agg(\n",
    "    GF=pd.NamedAgg(column='score_away_team', aggfunc='sum'),\n",
    "    GA=pd.NamedAgg(column='score_home_team', aggfunc='sum'),\n",
    "    W=pd.NamedAgg(column='match_result', aggfunc=func_away_wins),\n",
    "    L=pd.NamedAgg(column='match_result', aggfunc=func_home_wins),\n",
    "    T=pd.NamedAgg(column='match_result', aggfunc=func_tie)\n",
    ").reset_index()\n",
    "\n",
    "df_columns_home.rename(columns={'home_team': 'team'}, inplace=True)\n",
    "df_columns_away.rename(columns={'away_team': 'team'}, inplace=True)\n",
    "\n",
    "df_classification = df_columns_away.merge(df_columns_home, how='outer')\n",
    "df_classification = df_classification.groupby(['season', 'team', 'division']).sum().reset_index()\n",
    "\n",
    "df_classification['GD'] = df_classification['GF'] - df_classification['GA']\n",
    "df_classification['Pts'] = (df_classification['W']) * 3 + df_classification['T']\n",
    "\n",
    "df_classification['year_of_start'] = df_classification['season'].str.split(\"-\").str[0].astype(int)\n",
    "\n",
    "df_classification_ordered = df_classification.sort_values(by=['year_of_start'], ascending=False)\n",
    "df_classification_ordered = df_classification_ordered.sort_values(by=['year_of_start', 'division'], ascending=[False, True])\n",
    "df_classification_ordered = df_classification_ordered.sort_values(by=['year_of_start', 'division', 'Pts'], ascending=[False, True, False])\n",
    "df_classification_ordered = df_classification_ordered.sort_values(by=['year_of_start', 'division', 'Pts', 'GD'], ascending=[False, True, False, False])\n",
    "df_classification_ordered = df_classification_ordered.sort_values(by=['year_of_start', 'division', 'Pts', 'GD', 'GF'], ascending=[False, True, False, False, False])\n",
    "\n",
    "df_classification_ordered = df_classification_ordered.reset_index(drop=True)\n",
    "df_classification_ordered['rank'] = df_classification_ordered.groupby(['year_of_start', 'division']).cumcount() + 1"
   ]
  },
  {
   "cell_type": "markdown",
   "metadata": {},
   "source": [
    "Here we change the rank for the teams in second division, as explaind before."
   ]
  },
  {
   "cell_type": "code",
   "execution_count": null,
   "metadata": {},
   "outputs": [],
   "source": [
    "df_classification_1_div = df_classification_ordered[df_classification_ordered['division']==1]\n",
    "df_classification_2_div = df_classification_ordered[df_classification_ordered['division']==2]\n",
    "num_teams_1_div = df_classification_1_div.groupby('season')['rank'].max().reset_index()\n",
    "\n",
    "merged_df = df_classification_2_div.merge(num_teams_1_div, on='season')\n",
    "merged_df['rank'] = merged_df['rank_x'] + merged_df['rank_y']\n",
    "merged_df = merged_df.drop(columns={'rank_x','rank_y'})\n",
    "\n",
    "df_classification_ordered_rank2_updated = merged_df.merge(df_classification_1_div,how='outer')\n",
    "\n",
    "df_classification_ordered_rank2_updated = df_classification_ordered_rank2_updated.sort_values(by=['year_of_start', 'division', 'Pts', 'GD', 'GF'], ascending=[False, True, False, False, False])\n",
    "df_classification_ordered_rank2_updated['delayed_rank'] = df_classification_ordered_rank2_updated.groupby(['team'])['rank'].shift(-1)\n",
    "\n",
    "df_with_rank = df_classification_ordered_rank2_updated[['season','division','team','delayed_rank']]\n"
   ]
  },
  {
   "cell_type": "markdown",
   "metadata": {},
   "source": [
    "In this next cell the ranks from the home team and the away team are added to a selection of columns from original dataframe to create the dataframe that will be feeded to the model."
   ]
  },
  {
   "cell_type": "code",
   "execution_count": 6,
   "metadata": {},
   "outputs": [],
   "source": [
    "df_useful_columns = df[['season','division','home_team','match_result','away_team']]\n",
    "\n",
    "home_team_rank = df_useful_columns.merge(df_with_rank, left_on=['season','division', 'home_team'], right_on=['season','division', 'team'], how='left')\n",
    "home_team_rank.rename(columns={'delayed_rank': 'home_team_rank'}, inplace=True)\n",
    "home_team_rank.drop(columns=['team'], inplace=True)\n",
    "\n",
    "away_team_rank = df_useful_columns.merge(df_with_rank, left_on=['season', 'division', 'away_team'], right_on=['season','division', 'team'], how='left')\n",
    "away_team_rank.rename(columns={'delayed_rank': 'away_team_rank'}, inplace=True)\n",
    "away_team_rank.drop(columns=['team'], inplace=True)\n",
    "\n",
    "df_both_teams_rank = away_team_rank.merge(home_team_rank, on=['season', 'division', 'home_team','away_team'], how='left')\n",
    "\n",
    "df_both_teams_rank.rename(columns={'match_result_x': 'match_result'},inplace=True)\n",
    "\n",
    "df_to_train = df_both_teams_rank[['season','home_team','away_team','home_team_rank','away_team_rank','match_result']]\n",
    "df_to_train = df_to_train.fillna(0)"
   ]
  },
  {
   "cell_type": "markdown",
   "metadata": {},
   "source": [
    "Now we define the features that we will use to train the model, for this case just the ranks of the two teams which are playing."
   ]
  },
  {
   "cell_type": "code",
   "execution_count": 7,
   "metadata": {},
   "outputs": [],
   "source": [
    "features = ['away_team_rank','home_team_rank']\n",
    "target = [\"match_result\"]"
   ]
  },
  {
   "cell_type": "markdown",
   "metadata": {},
   "source": [
    "From all the data we have we select a few seasons to train the model and another one to test it's efficiency"
   ]
  },
  {
   "cell_type": "code",
   "execution_count": 14,
   "metadata": {},
   "outputs": [],
   "source": [
    "df_train = df_to_train[(df_to_train['season'] > '2000-2001') & (df_to_train['season'] < '2020-2021')]\n",
    "x_train = df_train[features]\n",
    "y_train = df_train[target].values.ravel()\n",
    "\n",
    "df_test = df_to_train[df_to_train['season']=='2020-2021']\n",
    "x_test = df_test[features]\n",
    "y_test = df_test[target]"
   ]
  },
  {
   "cell_type": "markdown",
   "metadata": {},
   "source": [
    "For our model we used the *GradientBoostingClassifier()* from the library scikit-learn, which is trained with the data we modified until now and after that tested."
   ]
  },
  {
   "cell_type": "code",
   "execution_count": 16,
   "metadata": {},
   "outputs": [
    {
     "name": "stdout",
     "output_type": "stream",
     "text": [
      "This model guesses right 46.67 % of the time\n"
     ]
    }
   ],
   "source": [
    "clf = GradientBoostingClassifier()\n",
    "clf.fit(x_train, y_train)\n",
    "clf_y_pred = clf.predict(x_test)\n",
    "\n",
    "results_df = x_test.copy()\n",
    "results_df = df_test.copy()\n",
    "results_df[\"match_result_prediction\"] = clf_y_pred\n",
    "\n",
    "model_is_correct = (results_df[\"match_result_prediction\"] == results_df[\"match_result\"]).sum()\n",
    "total_tries = len(results_df)\n",
    "sucess_rate = model_is_correct/total_tries*100\n",
    "\n",
    "print(f\"This model guesses right {sucess_rate:.2f} % of the time\")"
   ]
  }
 ],
 "metadata": {
  "kernelspec": {
   "display_name": ".laquinielaenv",
   "language": "python",
   "name": "python3"
  },
  "language_info": {
   "codemirror_mode": {
    "name": "ipython",
    "version": 3
   },
   "file_extension": ".py",
   "mimetype": "text/x-python",
   "name": "python",
   "nbconvert_exporter": "python",
   "pygments_lexer": "ipython3",
   "version": "3.11.5"
  }
 },
 "nbformat": 4,
 "nbformat_minor": 2
}
