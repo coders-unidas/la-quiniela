{
 "cells": [
  {
   "cell_type": "code",
   "execution_count": null,
   "metadata": {},
   "outputs": [],
   "source": [
    "import seaborn as sns\n",
    "import matplotlib.pyplot as plt"
   ]
  },
  {
   "cell_type": "markdown",
   "metadata": {},
   "source": [
    "#### bar plot with performance of the 3 possible models"
   ]
  },
  {
   "cell_type": "code",
   "execution_count": null,
   "metadata": {},
   "outputs": [],
   "source": [
    "performance=[45.25,46.67,45.61]\n",
    "name_code=['First model', 'Second model','Third model']\n",
    "\n",
    "fig=plt.figure(figsize=(4,5))\n",
    "sns.barplot(x=name_code, y=performance, hue=performance)\n",
    "\n",
    "plt.ylabel('Starting time', fontsize=12)\n",
    "plt.xlabel('Number of matches', fontsize=12)\n",
    "plt.legend(bbox_to_anchor=(1,1),loc='upper left')\n",
    "plt.show()"
   ]
  }
 ],
 "metadata": {
  "language_info": {
   "name": "python"
  }
 },
 "nbformat": 4,
 "nbformat_minor": 2
}
