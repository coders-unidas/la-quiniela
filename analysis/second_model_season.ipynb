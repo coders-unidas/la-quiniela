{
 "cells": [
  {
   "cell_type": "code",
   "execution_count": 1,
   "metadata": {},
   "outputs": [],
   "source": [
    "import sqlite3\n",
    "import pandas as pd\n",
    "import numpy as np\n",
    "from sklearn.ensemble import GradientBoostingClassifier\n",
    "from sklearn.model_selection import train_test_split"
   ]
  },
  {
   "cell_type": "code",
   "execution_count": 2,
   "metadata": {},
   "outputs": [],
   "source": [
    "with sqlite3.connect(\"../laliga.sqlite\") as con:\n",
    "    df=pd.read_sql_query(\"SELECT * FROM Matches\",con)\n",
    "    dr=pd.read_sql_query(\"SELECT * FROM Predictions\",con)\n",
    "\n",
    "df = df.dropna(subset=['score'])"
   ]
  },
  {
   "cell_type": "code",
   "execution_count": 3,
   "metadata": {},
   "outputs": [],
   "source": [
    "df[\"score_home_team\"] = df[\"score\"].str.split(\":\").str[0].astype(float)\n",
    "df[\"score_away_team\"] = df[\"score\"].str.split(\":\").str[1].astype(float)\n",
    "df[\"goal_difference\"] = df[\"score_home_team\"] - df[\"score_away_team\"]\n",
    "\n",
    "df[\"match_result\"] = np.where(df['score_home_team'] > df['score_away_team'], '1', np.where(df['score_home_team'] < df['score_away_team'], '2', 'X'))"
   ]
  },
  {
   "cell_type": "code",
   "execution_count": 28,
   "metadata": {},
   "outputs": [
    {
     "name": "stdout",
     "output_type": "stream",
     "text": [
      "         season             team  division    GF    GA  W   L  T    GD  Pts  \\\n",
      "0     2021-2022      Real Madrid         1   8.0   4.0  2   0  1   4.0    7   \n",
      "1     2021-2022     Ponferradina         2   4.0   1.0  3   0  0   3.0    9   \n",
      "2     2021-2022       Sevilla FC         1   5.0   1.0  2   0  1   4.0    7   \n",
      "3     2021-2022  Real Valladolid         2   5.0   1.0  2   0  1   4.0    7   \n",
      "4     2021-2022         Valencia         1   5.0   1.0  2   0  1   4.0    7   \n",
      "...         ...              ...       ...   ...   ... ..  .. ..   ...  ...   \n",
      "2781  1928-1929  Athletic Madrid         1  43.0  41.0  8   8  2   2.0   26   \n",
      "2782  1928-1929         Espanyol         1  32.0  38.0  7   7  4  -6.0   25   \n",
      "2783  1928-1929        Catalunya         1  45.0  49.0  6   8  4  -4.0   22   \n",
      "2784  1928-1929       Real Unión         1  40.0  42.0  5  11  2  -2.0   17   \n",
      "2785  1928-1929           Racing         1  25.0  50.0  3  12  3 -25.0   12   \n",
      "\n",
      "      year_of_start  rank  \n",
      "0              2021     1  \n",
      "1              2021     1  \n",
      "2              2021     2  \n",
      "3              2021     2  \n",
      "4              2021     3  \n",
      "...             ...   ...  \n",
      "2781           1928     6  \n",
      "2782           1928     7  \n",
      "2783           1928     8  \n",
      "2784           1928     9  \n",
      "2785           1928    10  \n",
      "\n",
      "[2786 rows x 12 columns]\n"
     ]
    }
   ],
   "source": [
    "def func_home_wins(data):\n",
    "    return (data[data == '1']).count()\n",
    "\n",
    "def func_away_wins(data):\n",
    "    return (data[data == '2']).count()\n",
    "\n",
    "def func_tie(data):\n",
    "    return (data[data == 'X']).count()\n",
    "\n",
    "df_class_home = df.groupby(['division', 'season', 'home_team']).agg(\n",
    "    GF=pd.NamedAgg(column='score_home_team', aggfunc='sum'),\n",
    "    GA=pd.NamedAgg(column='score_away_team', aggfunc='sum'),\n",
    "    W=pd.NamedAgg(column='match_result', aggfunc=func_home_wins),\n",
    "    L=pd.NamedAgg(column='match_result', aggfunc=func_away_wins),\n",
    "    T=pd.NamedAgg(column='match_result', aggfunc=func_tie)\n",
    ").reset_index()\n",
    "\n",
    "df_class_away = df.groupby(['division', 'season', 'away_team']).agg(\n",
    "    GF=pd.NamedAgg(column='score_away_team', aggfunc='sum'),\n",
    "    GA=pd.NamedAgg(column='score_home_team', aggfunc='sum'),\n",
    "    W=pd.NamedAgg(column='match_result', aggfunc=func_away_wins),\n",
    "    L=pd.NamedAgg(column='match_result', aggfunc=func_home_wins),\n",
    "    T=pd.NamedAgg(column='match_result', aggfunc=func_tie)\n",
    ").reset_index()\n",
    "\n",
    "df_class_away.rename(columns={'away_team': 'team'}, inplace=True)\n",
    "df_class_home.rename(columns={'home_team': 'team'}, inplace=True)\n",
    "\n",
    "df_classification = df_class_away.merge(df_class_home, how='outer')\n",
    "df_classification = df_classification.groupby(['season', 'team', 'division']).sum().reset_index()\n",
    "# df_classification['GF'] = df_classification['GF'].shift(1)\n",
    "\n",
    "df_classification['GD'] = df_classification['GF'] - df_classification['GA']\n",
    "df_classification['Pts'] = (df_classification['W']) * 3 + df_classification['T']\n",
    "\n",
    "df_classification['year_of_start'] = df_classification['season'].str.split(\"-\").str[0].astype(int)\n",
    "\n",
    "df_classification_ordered = df_classification.sort_values(by=['year_of_start'], ascending=False)\n",
    "df_classification_ordered = df_classification_ordered.sort_values(by=['year_of_start', 'division'], ascending=[False, True])\n",
    "df_classification_ordered = df_classification_ordered.sort_values(by=['year_of_start', 'division', 'Pts'], ascending=[False, True, False])\n",
    "df_classification_ordered = df_classification_ordered.sort_values(by=['year_of_start', 'division', 'Pts', 'GD'], ascending=[False, True, False, False])\n",
    "df_classification_ordered = df_classification_ordered.sort_values(by=['year_of_start', 'division', 'Pts', 'GD', 'GF'], ascending=[False, True, False, False, False])\n",
    "\n",
    "df_classification_ordered = df_classification_ordered.reset_index(drop=True)\n",
    "\n",
    "df_classification_ordered['rank'] = df_classification_ordered.groupby(['year_of_start', 'division']).cumcount() + 1\n",
    "\n",
    "lowest_rank_div1= df_classification_ordered.groupby(['season'])['rank'].max().reset_index()\n",
    "df_classification_ordered_next=df_classification_ordered.merge(lowest_rank_div1,how='outer')\n",
    "\n",
    "\n",
    "df_classification_ordered['rank'] = df_classification_ordered.groupby(['division','team'])['rank'].shift(1)\n",
    "\n",
    "df_with_rank = df_classification_ordered[['season','division','team','rank']]\n",
    "print(df_classification_ordered_next)\n",
    "# df_classification_ordered_next[df_classification_ordered_next['season']==2]\n"
   ]
  },
  {
   "cell_type": "code",
   "execution_count": null,
   "metadata": {},
   "outputs": [],
   "source": []
  },
  {
   "cell_type": "code",
   "execution_count": null,
   "metadata": {},
   "outputs": [],
   "source": []
  }
 ],
 "metadata": {
  "kernelspec": {
   "display_name": ".laquinielaenv",
   "language": "python",
   "name": "python3"
  },
  "language_info": {
   "codemirror_mode": {
    "name": "ipython",
    "version": 3
   },
   "file_extension": ".py",
   "mimetype": "text/x-python",
   "name": "python",
   "nbconvert_exporter": "python",
   "pygments_lexer": "ipython3",
   "version": "3.11.5"
  }
 },
 "nbformat": 4,
 "nbformat_minor": 2
}
