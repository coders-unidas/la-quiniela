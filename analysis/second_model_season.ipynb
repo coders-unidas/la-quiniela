{
 "cells": [
  {
   "cell_type": "code",
   "execution_count": 2,
   "metadata": {},
   "outputs": [],
   "source": [
    "import sqlite3\n",
    "import pandas as pd\n",
    "import numpy as np\n",
    "from sklearn.ensemble import GradientBoostingClassifier\n",
    "from sklearn.model_selection import train_test_split"
   ]
  },
  {
   "cell_type": "code",
   "execution_count": 3,
   "metadata": {},
   "outputs": [],
   "source": [
    "with sqlite3.connect(\"../laliga.sqlite\") as con:\n",
    "    df=pd.read_sql_query(\"SELECT * FROM Matches\",con)\n",
    "    dr=pd.read_sql_query(\"SELECT * FROM Predictions\",con)\n",
    "\n",
    "df = df.dropna(subset=['score'])"
   ]
  },
  {
   "cell_type": "code",
   "execution_count": 4,
   "metadata": {},
   "outputs": [],
   "source": [
    "df[\"score_home_team\"] = df[\"score\"].str.split(\":\").str[0].astype(float)\n",
    "df[\"score_away_team\"] = df[\"score\"].str.split(\":\").str[1].astype(float)\n",
    "df[\"goal_difference\"] = df[\"score_home_team\"] - df[\"score_away_team\"]\n",
    "\n",
    "df[\"match_result\"] = np.where(df['score_home_team'] > df['score_away_team'], '1', np.where(df['score_home_team'] < df['score_away_team'], '2', 'X'))"
   ]
  },
  {
   "cell_type": "code",
   "execution_count": 28,
   "metadata": {},
   "outputs": [
    {
     "ename": "ValueError",
     "evalue": "setting an array element with a sequence. The requested array has an inhomogeneous shape after 2 dimensions. The detected shape was (64, 2) + inhomogeneous part.",
     "output_type": "error",
     "traceback": [
      "\u001b[1;31m---------------------------------------------------------------------------\u001b[0m",
      "\u001b[1;31mValueError\u001b[0m                                Traceback (most recent call last)",
      "\u001b[1;32mc:\\Users\\elisaetz\\Documents\\GitHub\\la-quiniela\\analysis\\second_model_season.ipynb Cell 4\u001b[0m line \u001b[0;36m5\n\u001b[0;32m     <a href='vscode-notebook-cell:/c%3A/Users/elisaetz/Documents/GitHub/la-quiniela/analysis/second_model_season.ipynb#W3sZmlsZQ%3D%3D?line=50'>51</a>\u001b[0m df_classification_2_div \u001b[39m=\u001b[39m df_classification_ordered[df_classification_ordered[\u001b[39m'\u001b[39m\u001b[39mdivision\u001b[39m\u001b[39m'\u001b[39m]\u001b[39m==\u001b[39m\u001b[39m2\u001b[39m]\n\u001b[0;32m     <a href='vscode-notebook-cell:/c%3A/Users/elisaetz/Documents/GitHub/la-quiniela/analysis/second_model_season.ipynb#W3sZmlsZQ%3D%3D?line=52'>53</a>\u001b[0m num_teams_1_div \u001b[39m=\u001b[39m df_classification_1_div\u001b[39m.\u001b[39mgroupby(\u001b[39m'\u001b[39m\u001b[39mseason\u001b[39m\u001b[39m'\u001b[39m)[\u001b[39m'\u001b[39m\u001b[39mrank\u001b[39m\u001b[39m'\u001b[39m]\u001b[39m.\u001b[39mmax()\u001b[39m.\u001b[39mreset_index()\n\u001b[1;32m---> <a href='vscode-notebook-cell:/c%3A/Users/elisaetz/Documents/GitHub/la-quiniela/analysis/second_model_season.ipynb#W3sZmlsZQ%3D%3D?line=54'>55</a>\u001b[0m df_classification_2_div[\u001b[39m'\u001b[39m\u001b[39mnew_column\u001b[39m\u001b[39m'\u001b[39m] \u001b[39m=\u001b[39m df_classification_2_div\u001b[39m.\u001b[39;49mgroupby(\u001b[39m'\u001b[39;49m\u001b[39mseason\u001b[39;49m\u001b[39m'\u001b[39;49m)[\u001b[39m'\u001b[39;49m\u001b[39mrank\u001b[39;49m\u001b[39m'\u001b[39;49m] \u001b[39m+\u001b[39;49m num_teams_1_div[\u001b[39m'\u001b[39;49m\u001b[39mrank\u001b[39;49m\u001b[39m'\u001b[39;49m]\n\u001b[0;32m     <a href='vscode-notebook-cell:/c%3A/Users/elisaetz/Documents/GitHub/la-quiniela/analysis/second_model_season.ipynb#W3sZmlsZQ%3D%3D?line=58'>59</a>\u001b[0m \u001b[39m# df_classification_ordered['rank'] = df_classification_ordered.groupby(['division','team'])['rank'].shift(1)\u001b[39;00m\n\u001b[0;32m     <a href='vscode-notebook-cell:/c%3A/Users/elisaetz/Documents/GitHub/la-quiniela/analysis/second_model_season.ipynb#W3sZmlsZQ%3D%3D?line=59'>60</a>\u001b[0m \n\u001b[0;32m     <a href='vscode-notebook-cell:/c%3A/Users/elisaetz/Documents/GitHub/la-quiniela/analysis/second_model_season.ipynb#W3sZmlsZQ%3D%3D?line=60'>61</a>\u001b[0m \u001b[39m# df_with_rank = df_classification_ordered[['season','division','team','rank']]\u001b[39;00m\n\u001b[0;32m     <a href='vscode-notebook-cell:/c%3A/Users/elisaetz/Documents/GitHub/la-quiniela/analysis/second_model_season.ipynb#W3sZmlsZQ%3D%3D?line=63'>64</a>\u001b[0m \u001b[39mprint\u001b[39m(df_classification_2_div)\n",
      "File \u001b[1;32mc:\\Users\\elisaetz\\Documents\\GitHub\\la-quiniela\\.laquinielaenv\\Lib\\site-packages\\pandas\\core\\ops\\common.py:76\u001b[0m, in \u001b[0;36m_unpack_zerodim_and_defer.<locals>.new_method\u001b[1;34m(self, other)\u001b[0m\n\u001b[0;32m     72\u001b[0m             \u001b[39mreturn\u001b[39;00m \u001b[39mNotImplemented\u001b[39m\n\u001b[0;32m     74\u001b[0m other \u001b[39m=\u001b[39m item_from_zerodim(other)\n\u001b[1;32m---> 76\u001b[0m \u001b[39mreturn\u001b[39;00m method(\u001b[39mself\u001b[39;49m, other)\n",
      "File \u001b[1;32mc:\\Users\\elisaetz\\Documents\\GitHub\\la-quiniela\\.laquinielaenv\\Lib\\site-packages\\pandas\\core\\arraylike.py:190\u001b[0m, in \u001b[0;36mOpsMixin.__radd__\u001b[1;34m(self, other)\u001b[0m\n\u001b[0;32m    188\u001b[0m \u001b[39m@unpack_zerodim_and_defer\u001b[39m(\u001b[39m\"\u001b[39m\u001b[39m__radd__\u001b[39m\u001b[39m\"\u001b[39m)\n\u001b[0;32m    189\u001b[0m \u001b[39mdef\u001b[39;00m \u001b[39m__radd__\u001b[39m(\u001b[39mself\u001b[39m, other):\n\u001b[1;32m--> 190\u001b[0m     \u001b[39mreturn\u001b[39;00m \u001b[39mself\u001b[39;49m\u001b[39m.\u001b[39;49m_arith_method(other, roperator\u001b[39m.\u001b[39;49mradd)\n",
      "File \u001b[1;32mc:\\Users\\elisaetz\\Documents\\GitHub\\la-quiniela\\.laquinielaenv\\Lib\\site-packages\\pandas\\core\\series.py:5815\u001b[0m, in \u001b[0;36mSeries._arith_method\u001b[1;34m(self, other, op)\u001b[0m\n\u001b[0;32m   5813\u001b[0m \u001b[39mdef\u001b[39;00m \u001b[39m_arith_method\u001b[39m(\u001b[39mself\u001b[39m, other, op):\n\u001b[0;32m   5814\u001b[0m     \u001b[39mself\u001b[39m, other \u001b[39m=\u001b[39m \u001b[39mself\u001b[39m\u001b[39m.\u001b[39m_align_for_op(other)\n\u001b[1;32m-> 5815\u001b[0m     \u001b[39mreturn\u001b[39;00m base\u001b[39m.\u001b[39;49mIndexOpsMixin\u001b[39m.\u001b[39;49m_arith_method(\u001b[39mself\u001b[39;49m, other, op)\n",
      "File \u001b[1;32mc:\\Users\\elisaetz\\Documents\\GitHub\\la-quiniela\\.laquinielaenv\\Lib\\site-packages\\pandas\\core\\base.py:1381\u001b[0m, in \u001b[0;36mIndexOpsMixin._arith_method\u001b[1;34m(self, other, op)\u001b[0m\n\u001b[0;32m   1378\u001b[0m     rvalues \u001b[39m=\u001b[39m np\u001b[39m.\u001b[39marange(rvalues\u001b[39m.\u001b[39mstart, rvalues\u001b[39m.\u001b[39mstop, rvalues\u001b[39m.\u001b[39mstep)\n\u001b[0;32m   1380\u001b[0m \u001b[39mwith\u001b[39;00m np\u001b[39m.\u001b[39merrstate(\u001b[39mall\u001b[39m\u001b[39m=\u001b[39m\u001b[39m\"\u001b[39m\u001b[39mignore\u001b[39m\u001b[39m\"\u001b[39m):\n\u001b[1;32m-> 1381\u001b[0m     result \u001b[39m=\u001b[39m ops\u001b[39m.\u001b[39;49marithmetic_op(lvalues, rvalues, op)\n\u001b[0;32m   1383\u001b[0m \u001b[39mreturn\u001b[39;00m \u001b[39mself\u001b[39m\u001b[39m.\u001b[39m_construct_result(result, name\u001b[39m=\u001b[39mres_name)\n",
      "File \u001b[1;32mc:\\Users\\elisaetz\\Documents\\GitHub\\la-quiniela\\.laquinielaenv\\Lib\\site-packages\\pandas\\core\\ops\\array_ops.py:285\u001b[0m, in \u001b[0;36marithmetic_op\u001b[1;34m(left, right, op)\u001b[0m\n\u001b[0;32m    281\u001b[0m     _bool_arith_check(op, left, right)  \u001b[39m# type: ignore[arg-type]\u001b[39;00m\n\u001b[0;32m    283\u001b[0m     \u001b[39m# error: Argument 1 to \"_na_arithmetic_op\" has incompatible type\u001b[39;00m\n\u001b[0;32m    284\u001b[0m     \u001b[39m# \"Union[ExtensionArray, ndarray[Any, Any]]\"; expected \"ndarray[Any, Any]\"\u001b[39;00m\n\u001b[1;32m--> 285\u001b[0m     res_values \u001b[39m=\u001b[39m _na_arithmetic_op(left, right, op)  \u001b[39m# type: ignore[arg-type]\u001b[39;00m\n\u001b[0;32m    287\u001b[0m \u001b[39mreturn\u001b[39;00m res_values\n",
      "File \u001b[1;32mc:\\Users\\elisaetz\\Documents\\GitHub\\la-quiniela\\.laquinielaenv\\Lib\\site-packages\\pandas\\core\\ops\\array_ops.py:220\u001b[0m, in \u001b[0;36m_na_arithmetic_op\u001b[1;34m(left, right, op, is_cmp)\u001b[0m\n\u001b[0;32m    217\u001b[0m     func \u001b[39m=\u001b[39m partial(expressions\u001b[39m.\u001b[39mevaluate, op)\n\u001b[0;32m    219\u001b[0m \u001b[39mtry\u001b[39;00m:\n\u001b[1;32m--> 220\u001b[0m     result \u001b[39m=\u001b[39m func(left, right)\n\u001b[0;32m    221\u001b[0m \u001b[39mexcept\u001b[39;00m \u001b[39mTypeError\u001b[39;00m:\n\u001b[0;32m    222\u001b[0m     \u001b[39mif\u001b[39;00m \u001b[39mnot\u001b[39;00m is_cmp \u001b[39mand\u001b[39;00m (\n\u001b[0;32m    223\u001b[0m         left\u001b[39m.\u001b[39mdtype \u001b[39m==\u001b[39m \u001b[39mobject\u001b[39m \u001b[39mor\u001b[39;00m \u001b[39mgetattr\u001b[39m(right, \u001b[39m\"\u001b[39m\u001b[39mdtype\u001b[39m\u001b[39m\"\u001b[39m, \u001b[39mNone\u001b[39;00m) \u001b[39m==\u001b[39m \u001b[39mobject\u001b[39m\n\u001b[0;32m    224\u001b[0m     ):\n\u001b[1;32m   (...)\u001b[0m\n\u001b[0;32m    227\u001b[0m         \u001b[39m# Don't do this for comparisons, as that will handle complex numbers\u001b[39;00m\n\u001b[0;32m    228\u001b[0m         \u001b[39m#  incorrectly, see GH#32047\u001b[39;00m\n",
      "File \u001b[1;32mc:\\Users\\elisaetz\\Documents\\GitHub\\la-quiniela\\.laquinielaenv\\Lib\\site-packages\\pandas\\core\\computation\\expressions.py:242\u001b[0m, in \u001b[0;36mevaluate\u001b[1;34m(op, a, b, use_numexpr)\u001b[0m\n\u001b[0;32m    239\u001b[0m \u001b[39mif\u001b[39;00m op_str \u001b[39mis\u001b[39;00m \u001b[39mnot\u001b[39;00m \u001b[39mNone\u001b[39;00m:\n\u001b[0;32m    240\u001b[0m     \u001b[39mif\u001b[39;00m use_numexpr:\n\u001b[0;32m    241\u001b[0m         \u001b[39m# error: \"None\" not callable\u001b[39;00m\n\u001b[1;32m--> 242\u001b[0m         \u001b[39mreturn\u001b[39;00m _evaluate(op, op_str, a, b)  \u001b[39m# type: ignore[misc]\u001b[39;00m\n\u001b[0;32m    243\u001b[0m \u001b[39mreturn\u001b[39;00m _evaluate_standard(op, op_str, a, b)\n",
      "File \u001b[1;32mc:\\Users\\elisaetz\\Documents\\GitHub\\la-quiniela\\.laquinielaenv\\Lib\\site-packages\\pandas\\core\\computation\\expressions.py:73\u001b[0m, in \u001b[0;36m_evaluate_standard\u001b[1;34m(op, op_str, a, b)\u001b[0m\n\u001b[0;32m     71\u001b[0m \u001b[39mif\u001b[39;00m _TEST_MODE:\n\u001b[0;32m     72\u001b[0m     _store_test_result(\u001b[39mFalse\u001b[39;00m)\n\u001b[1;32m---> 73\u001b[0m \u001b[39mreturn\u001b[39;00m op(a, b)\n",
      "File \u001b[1;32mc:\\Users\\elisaetz\\Documents\\GitHub\\la-quiniela\\.laquinielaenv\\Lib\\site-packages\\pandas\\core\\roperator.py:11\u001b[0m, in \u001b[0;36mradd\u001b[1;34m(left, right)\u001b[0m\n\u001b[0;32m     10\u001b[0m \u001b[39mdef\u001b[39;00m \u001b[39mradd\u001b[39m(left, right):\n\u001b[1;32m---> 11\u001b[0m     \u001b[39mreturn\u001b[39;00m right \u001b[39m+\u001b[39;49m left\n",
      "\u001b[1;31mValueError\u001b[0m: setting an array element with a sequence. The requested array has an inhomogeneous shape after 2 dimensions. The detected shape was (64, 2) + inhomogeneous part."
     ]
    }
   ],
   "source": [
    "def func_home_wins(data):\n",
    "    return (data[data == '1']).count()\n",
    "\n",
    "def func_away_wins(data):\n",
    "    return (data[data == '2']).count()\n",
    "\n",
    "def func_tie(data):\n",
    "    return (data[data == 'X']).count()\n",
    "\n",
    "df_class_home = df.groupby(['division', 'season', 'home_team']).agg(\n",
    "    GF=pd.NamedAgg(column='score_home_team', aggfunc='sum'),\n",
    "    GA=pd.NamedAgg(column='score_away_team', aggfunc='sum'),\n",
    "    W=pd.NamedAgg(column='match_result', aggfunc=func_home_wins),\n",
    "    L=pd.NamedAgg(column='match_result', aggfunc=func_away_wins),\n",
    "    T=pd.NamedAgg(column='match_result', aggfunc=func_tie)\n",
    ").reset_index()\n",
    "\n",
    "df_class_away = df.groupby(['division', 'season', 'away_team']).agg(\n",
    "    GF=pd.NamedAgg(column='score_away_team', aggfunc='sum'),\n",
    "    GA=pd.NamedAgg(column='score_home_team', aggfunc='sum'),\n",
    "    W=pd.NamedAgg(column='match_result', aggfunc=func_away_wins),\n",
    "    L=pd.NamedAgg(column='match_result', aggfunc=func_home_wins),\n",
    "    T=pd.NamedAgg(column='match_result', aggfunc=func_tie)\n",
    ").reset_index()\n",
    "\n",
    "df_class_away.rename(columns={'away_team': 'team'}, inplace=True)\n",
    "df_class_home.rename(columns={'home_team': 'team'}, inplace=True)\n",
    "\n",
    "df_classification = df_class_away.merge(df_class_home, how='outer')\n",
    "df_classification = df_classification.groupby(['season', 'team', 'division']).sum().reset_index()\n",
    "# df_classification['GF'] = df_classification['GF'].shift(1)\n",
    "\n",
    "df_classification['GD'] = df_classification['GF'] - df_classification['GA']\n",
    "df_classification['Pts'] = (df_classification['W']) * 3 + df_classification['T']\n",
    "\n",
    "df_classification['year_of_start'] = df_classification['season'].str.split(\"-\").str[0].astype(int)\n",
    "\n",
    "df_classification_ordered = df_classification.sort_values(by=['year_of_start'], ascending=False)\n",
    "df_classification_ordered = df_classification_ordered.sort_values(by=['year_of_start', 'division'], ascending=[False, True])\n",
    "df_classification_ordered = df_classification_ordered.sort_values(by=['year_of_start', 'division', 'Pts'], ascending=[False, True, False])\n",
    "df_classification_ordered = df_classification_ordered.sort_values(by=['year_of_start', 'division', 'Pts', 'GD'], ascending=[False, True, False, False])\n",
    "df_classification_ordered = df_classification_ordered.sort_values(by=['year_of_start', 'division', 'Pts', 'GD', 'GF'], ascending=[False, True, False, False, False])\n",
    "\n",
    "df_classification_ordered = df_classification_ordered.reset_index(drop=True)\n",
    "df_classification_ordered['rank'] = df_classification_ordered.groupby(['year_of_start', 'division']).cumcount() + 1\n",
    "\n",
    "# lowest_rank_div1= df_classification_ordered.groupby(['season'])['rank'].max().reset_index()\n",
    "# df_classification_ordered_next=df_classification_ordered.merge(lowest_rank_div1,how='outer')\n",
    "\n",
    "df_classification_1_div = df_classification_ordered[df_classification_ordered['division']==1]\n",
    "df_classification_2_div = df_classification_ordered[df_classification_ordered['division']==2]\n",
    "\n",
    "num_teams_1_div = df_classification_1_div.groupby('season')['rank'].max().reset_index()\n",
    "\n",
    "df_classification_2_div['new_column'] = df_classification_2_div.groupby('season')['rank'] + num_teams_1_div['rank']\n",
    "\n",
    "\n",
    "\n",
    "# df_classification_ordered['rank'] = df_classification_ordered.groupby(['division','team'])['rank'].shift(1)\n",
    "\n",
    "# df_with_rank = df_classification_ordered[['season','division','team','rank']]\n",
    "\n",
    "\n",
    "print(df_classification_2_div)\n",
    "# df_classification_ordered_next[df_classification_ordered_next['season']==2]\n",
    "\n",
    "\n",
    "# segueix mirant com fer aixo, inctrodueix matchday al primer model\n"
   ]
  },
  {
   "cell_type": "code",
   "execution_count": null,
   "metadata": {},
   "outputs": [],
   "source": []
  },
  {
   "cell_type": "code",
   "execution_count": null,
   "metadata": {},
   "outputs": [],
   "source": []
  }
 ],
 "metadata": {
  "kernelspec": {
   "display_name": ".laquinielaenv",
   "language": "python",
   "name": "python3"
  },
  "language_info": {
   "codemirror_mode": {
    "name": "ipython",
    "version": 3
   },
   "file_extension": ".py",
   "mimetype": "text/x-python",
   "name": "python",
   "nbconvert_exporter": "python",
   "pygments_lexer": "ipython3",
   "version": "3.11.5"
  }
 },
 "nbformat": 4,
 "nbformat_minor": 2
}
